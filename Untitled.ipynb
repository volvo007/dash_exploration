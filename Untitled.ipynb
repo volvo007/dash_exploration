{
 "cells": [
  {
   "cell_type": "code",
   "execution_count": 1,
   "metadata": {},
   "outputs": [],
   "source": [
    "import numpy as np\n",
    "import matplotlib.pyplot as plt\n",
    "import pandas as pd\n",
    "import dash\n",
    "import dash_core_components as dcc\n",
    "import dash_html_components as html\n",
    "from jupyter_plotly_dash import JupyterDash"
   ]
  },
  {
   "cell_type": "code",
   "execution_count": 7,
   "metadata": {},
   "outputs": [],
   "source": [
    "external_stylesheets = ['https://codepen.io/chriddyp/pen/bWLwgP.css']\n",
    "\n",
    "app = JupyterDash(name='Demo')\n",
    "\n",
    "app.layout = html.Div(children=[\n",
    "\thtml.H1(children='Hello Dash'),\n",
    "\thtml.Div(children='''\n",
    "\t\tDash: A web application framework for Python.\n",
    "\t\t'''),\n",
    "\n",
    "\tdcc.Graph(\n",
    "\t\tid='example-graph',\n",
    "\t\tfigure={\n",
    "\t\t\t'data': [\n",
    "\t\t\t\t\t{'x': [1, 2, 3], 'y': [4, 1, 2], 'type': 'bar', 'name': 'SF'},\n",
    "\t\t\t\t\t{'x': [1, 2, 3], 'y': [2, 4, 5], 'type': 'bar', 'name': 'ABC'},\n",
    "\t\t\t\t\t],\n",
    "\t\t\t'layout': {\n",
    "\t\t\t\t\t'title': 'Dash Demo'\n",
    "\t\t\t}\n",
    "\t\t})])\n",
    "\n",
    "if __name__ == '__main__':\n",
    "\tapp"
   ]
  },
  {
   "cell_type": "code",
   "execution_count": null,
   "metadata": {},
   "outputs": [],
   "source": []
  }
 ],
 "metadata": {
  "kernelspec": {
   "display_name": "Python 3",
   "language": "python",
   "name": "python3"
  },
  "language_info": {
   "codemirror_mode": {
    "name": "ipython",
    "version": 3
   },
   "file_extension": ".py",
   "mimetype": "text/x-python",
   "name": "python",
   "nbconvert_exporter": "python",
   "pygments_lexer": "ipython3",
   "version": "3.7.3"
  }
 },
 "nbformat": 4,
 "nbformat_minor": 2
}
