{
 "cells": [
  {
   "cell_type": "code",
   "execution_count": 2,
   "metadata": {
    "ExecuteTime": {
     "end_time": "2019-07-14T02:49:46.172177Z",
     "start_time": "2019-07-14T02:49:45.757872Z"
    }
   },
   "outputs": [],
   "source": [
    "import numpy as np\n",
    "import matplotlib.pyplot as plt\n",
    "import pandas as pd\n",
    "import dash\n",
    "import dash_core_components as dcc\n",
    "import dash_html_components as html\n",
    "from jupyter_plotly_dash import JupyterDash"
   ]
  },
  {
   "cell_type": "code",
   "execution_count": 3,
   "metadata": {
    "ExecuteTime": {
     "end_time": "2019-07-14T02:49:49.669514Z",
     "start_time": "2019-07-14T02:49:49.583482Z"
    }
   },
   "outputs": [],
   "source": [
    "external_stylesheets = ['https://codepen.io/chriddyp/pen/bWLwgP.css']\n",
    "\n",
    "app = JupyterDash(name='Demo')\n",
    "\n",
    "app.layout = html.Div(children=[\n",
    "\thtml.H1(children='Hello Dash'),\n",
    "\thtml.Div(children='''\n",
    "\t\tDash: A web application framework for Python.\n",
    "\t\t'''),\n",
    "\n",
    "\tdcc.Graph(\n",
    "\t\tid='example-graph',\n",
    "\t\tfigure={\n",
    "\t\t\t'data': [\n",
    "\t\t\t\t\t{'x': [1, 2, 3], 'y': [4, 1, 2], 'type': 'bar', 'name': 'SF'},\n",
    "\t\t\t\t\t{'x': [1, 2, 3], 'y': [2, 4, 5], 'type': 'bar', 'name': 'ABC'},\n",
    "\t\t\t\t\t],\n",
    "\t\t\t'layout': {\n",
    "\t\t\t\t\t'title': 'Dash Demo'\n",
    "\t\t\t}\n",
    "\t\t})])\n",
    "\n",
    "if __name__ == '__main__':\n",
    "\tapp"
   ]
  },
  {
   "cell_type": "code",
   "execution_count": 6,
   "metadata": {
    "ExecuteTime": {
     "end_time": "2019-07-14T13:31:13.797881Z",
     "start_time": "2019-07-14T13:31:13.678864Z"
    }
   },
   "outputs": [],
   "source": [
    "df = pd.read_excel('C:/Users/duska/Desktop/Book1.xlsx')"
   ]
  },
  {
   "cell_type": "code",
   "execution_count": 7,
   "metadata": {
    "ExecuteTime": {
     "end_time": "2019-07-14T13:31:14.028510Z",
     "start_time": "2019-07-14T13:31:14.024521Z"
    }
   },
   "outputs": [
    {
     "data": {
      "text/plain": [
       "Index(['From', 'TRIAL CODE', 'UNIT No.', 'REG No', 'OIL CODE ', 'OIL KM's',\n",
       "       'ENGINE KM's', 'SAMPLE ID / LAB ID', 'SAMPLE DATE (yyyy/mm/dd)',\n",
       "       'FUEL TYPE', 'WATER % D6304', 'KV @ 100 D445', 'KV @ 40 D445',\n",
       "       'VI D2270', 'OXIDATION A/cm E2412', 'NITRATION  A/cm E2412',\n",
       "       'FUEL DILLUTON %', 'GLYCOL TEST\\n%\\nD4291', 'SOOT A/cm\\nE2412',\n",
       "       'SOOT \\n% E2412', 'Pentene Insolubles\\n%\\nD 893', 'SOOT % (TGA)',\n",
       "       'TBN mgKOH/g D4739', 'TBN mgKOH/g \\nD2896', 'TAN mgKOH/g D664',\n",
       "       'Iron ppm FE', 'Chromium ppm CR', 'Nickel ppm NI', 'Aluminum ppm AL',\n",
       "       'Lead ppm PB', 'Copper ppm CU', 'Tin ppm SN', 'Silver ppm AG',\n",
       "       'Titanium ppm TI', 'Silicon ppm  SI', 'Boron ppm  B', 'Sodium ppm  NA',\n",
       "       'Potassium ppm K', 'Molybdenum ppm  MO', 'Phosphorus  P', 'Zinc  ZN',\n",
       "       'Calcium CA', 'Barium BA', 'Magnesium  MG', 'Antimony', 'Vanadium',\n",
       "       'MD\\nD7899', 'IC\\n%\\nD7899', 'DP\\nD7899', 'Flash point\\n>/<180',\n",
       "       'Ferrography', 'PQ　Index', 'Unnamed: 52', 'TBN - TAN\\n（D4739）',\n",
       "       'Unnamed: 54', 'TEST\\nComplete (mm/dd/yyyy)', 'SGS Batch Code',\n",
       "       'Unnamed: 57', 'TOP \\nTREAT\\n\\nBefore\\n/After\\n(L)', 'Unnamed: 59',\n",
       "       'OIL\\nFILTER', 'AIR\\nFILTER', 'FUEL\\nFILTER',\n",
       "       'Fuel S Contain \\nppm\\nD2622', 'Comments'],\n",
       "      dtype='object')"
      ]
     },
     "execution_count": 7,
     "metadata": {},
     "output_type": "execute_result"
    }
   ],
   "source": [
    "df.columns"
   ]
  },
  {
   "cell_type": "code",
   "execution_count": 9,
   "metadata": {
    "ExecuteTime": {
     "end_time": "2019-07-14T13:31:45.197615Z",
     "start_time": "2019-07-14T13:31:45.193614Z"
    }
   },
   "outputs": [],
   "source": [
    "df[\"OIL KM's\"] = pd.to_numeric(df[\"OIL KM's\"], errors='corece')"
   ]
  },
  {
   "cell_type": "code",
   "execution_count": 10,
   "metadata": {
    "ExecuteTime": {
     "end_time": "2019-07-14T13:32:02.494060Z",
     "start_time": "2019-07-14T13:32:02.488050Z"
    }
   },
   "outputs": [],
   "source": [
    "df1 = df.dropna(how='all')"
   ]
  },
  {
   "cell_type": "code",
   "execution_count": 12,
   "metadata": {
    "ExecuteTime": {
     "end_time": "2019-07-14T13:33:14.986373Z",
     "start_time": "2019-07-14T13:33:14.965377Z"
    }
   },
   "outputs": [
    {
     "data": {
      "text/html": [
       "<div>\n",
       "<style scoped>\n",
       "    .dataframe tbody tr th:only-of-type {\n",
       "        vertical-align: middle;\n",
       "    }\n",
       "\n",
       "    .dataframe tbody tr th {\n",
       "        vertical-align: top;\n",
       "    }\n",
       "\n",
       "    .dataframe thead th {\n",
       "        text-align: right;\n",
       "    }\n",
       "</style>\n",
       "<table border=\"1\" class=\"dataframe\">\n",
       "  <thead>\n",
       "    <tr style=\"text-align: right;\">\n",
       "      <th></th>\n",
       "      <th>From</th>\n",
       "      <th>TRIAL CODE</th>\n",
       "      <th>UNIT No.</th>\n",
       "      <th>REG No</th>\n",
       "      <th>OIL CODE</th>\n",
       "      <th>OIL KM's</th>\n",
       "      <th>ENGINE KM's</th>\n",
       "      <th>SAMPLE ID / LAB ID</th>\n",
       "      <th>SAMPLE DATE (yyyy/mm/dd)</th>\n",
       "      <th>FUEL TYPE</th>\n",
       "      <th>...</th>\n",
       "      <th>TEST\n",
       "Complete (mm/dd/yyyy)</th>\n",
       "      <th>SGS Batch Code</th>\n",
       "      <th>Unnamed: 57</th>\n",
       "      <th>TOP \n",
       "TREAT\n",
       "\n",
       "Before\n",
       "/After\n",
       "(L)</th>\n",
       "      <th>Unnamed: 59</th>\n",
       "      <th>OIL\n",
       "FILTER</th>\n",
       "      <th>AIR\n",
       "FILTER</th>\n",
       "      <th>FUEL\n",
       "FILTER</th>\n",
       "      <th>Fuel S Contain \n",
       "ppm\n",
       "D2622</th>\n",
       "      <th>Comments</th>\n",
       "    </tr>\n",
       "  </thead>\n",
       "  <tbody>\n",
       "    <tr>\n",
       "      <th>144</th>\n",
       "      <td>JINGYAN</td>\n",
       "      <td>FT-SH-011</td>\n",
       "      <td>SH081</td>\n",
       "      <td>沪EH2397</td>\n",
       "      <td>DRAINED</td>\n",
       "      <td>NaN</td>\n",
       "      <td>64008</td>\n",
       "      <td>SLH051X13</td>\n",
       "      <td>2018-03-02</td>\n",
       "      <td>Diesel</td>\n",
       "      <td>...</td>\n",
       "      <td>2018-03-20 00:00:00</td>\n",
       "      <td>SO18-02170.001</td>\n",
       "      <td>NaN</td>\n",
       "      <td>NaN</td>\n",
       "      <td>NaN</td>\n",
       "      <td>NaN</td>\n",
       "      <td>NaN</td>\n",
       "      <td>NaN</td>\n",
       "      <td>NaN</td>\n",
       "      <td>NaN</td>\n",
       "    </tr>\n",
       "  </tbody>\n",
       "</table>\n",
       "<p>1 rows × 65 columns</p>\n",
       "</div>"
      ],
      "text/plain": [
       "        From TRIAL CODE UNIT No.   REG No OIL CODE   OIL KM's  ENGINE KM's  \\\n",
       "144  JINGYAN  FT-SH-011    SH081  沪EH2397   DRAINED       NaN        64008   \n",
       "\n",
       "    SAMPLE ID / LAB ID SAMPLE DATE (yyyy/mm/dd) FUEL TYPE   ...     \\\n",
       "144          SLH051X13               2018-03-02    Diesel   ...      \n",
       "\n",
       "     TEST\\nComplete (mm/dd/yyyy)  SGS Batch Code Unnamed: 57  \\\n",
       "144          2018-03-20 00:00:00  SO18-02170.001         NaN   \n",
       "\n",
       "    TOP \\nTREAT\\n\\nBefore\\n/After\\n(L) Unnamed: 59 OIL\\nFILTER AIR\\nFILTER  \\\n",
       "144                                NaN         NaN         NaN         NaN   \n",
       "\n",
       "    FUEL\\nFILTER Fuel S Contain \\nppm\\nD2622 Comments  \n",
       "144          NaN                         NaN      NaN  \n",
       "\n",
       "[1 rows x 65 columns]"
      ]
     },
     "execution_count": 12,
     "metadata": {},
     "output_type": "execute_result"
    }
   ],
   "source": [
    "df1[df1[\"OIL KM's\"].isnull()]"
   ]
  },
  {
   "cell_type": "code",
   "execution_count": null,
   "metadata": {},
   "outputs": [],
   "source": []
  }
 ],
 "metadata": {
  "hide_input": false,
  "kernelspec": {
   "display_name": "Python 3",
   "language": "python",
   "name": "python3"
  },
  "language_info": {
   "codemirror_mode": {
    "name": "ipython",
    "version": 3
   },
   "file_extension": ".py",
   "mimetype": "text/x-python",
   "name": "python",
   "nbconvert_exporter": "python",
   "pygments_lexer": "ipython3",
   "version": "3.6.4"
  },
  "toc": {
   "base_numbering": 1,
   "nav_menu": {},
   "number_sections": true,
   "sideBar": true,
   "skip_h1_title": false,
   "title_cell": "Table of Contents",
   "title_sidebar": "Contents",
   "toc_cell": false,
   "toc_position": {},
   "toc_section_display": true,
   "toc_window_display": false
  },
  "varInspector": {
   "cols": {
    "lenName": 16,
    "lenType": 16,
    "lenVar": 40
   },
   "kernels_config": {
    "python": {
     "delete_cmd_postfix": "",
     "delete_cmd_prefix": "del ",
     "library": "var_list.py",
     "varRefreshCmd": "print(var_dic_list())"
    },
    "r": {
     "delete_cmd_postfix": ") ",
     "delete_cmd_prefix": "rm(",
     "library": "var_list.r",
     "varRefreshCmd": "cat(var_dic_list()) "
    }
   },
   "types_to_exclude": [
    "module",
    "function",
    "builtin_function_or_method",
    "instance",
    "_Feature"
   ],
   "window_display": false
  }
 },
 "nbformat": 4,
 "nbformat_minor": 2
}
